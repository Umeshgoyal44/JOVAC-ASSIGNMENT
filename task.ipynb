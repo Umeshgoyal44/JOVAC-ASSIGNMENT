{
 "cells": [
  {
   "cell_type": "code",
   "execution_count": 4,
   "id": "bd74c193",
   "metadata": {},
   "outputs": [
    {
     "name": "stdout",
     "output_type": "stream",
     "text": [
      "✅ Age 9 is valid.\n"
     ]
    }
   ],
   "source": [
    "class InvalidAgeException(Exception):\n",
    "    def __init__(self, message=\"Invalid age provided\"):\n",
    "        super().__init__(message)\n",
    "\n",
    "def get_and_verify_age():\n",
    "    try:\n",
    "        age = int(input(\"Enter your age: \"))\n",
    "        if age < 0 or age > 120:\n",
    "            raise InvalidAgeException(\"Age must be between 0 and 120.\")\n",
    "        print(f\"✅ Age {age} is valid.\")\n",
    "    except ValueError:\n",
    "        print(\"❌ Please enter a valid integer.\")\n",
    "    except InvalidAgeException as e:\n",
    "        print(f\"❌ {e}\")\n",
    "\n",
    "# Run the function\n",
    "get_and_verify_age()\n"
   ]
  },
  {
   "cell_type": "code",
   "execution_count": 5,
   "id": "941cc40f",
   "metadata": {},
   "outputs": [
    {
     "name": "stdout",
     "output_type": "stream",
     "text": [
      "Student | Subject | Grade\n",
      "Anaya | Math | A\n",
      "Ahana | Math | A\n",
      "Tisha | Math | O\n",
      "Rakshi | Science | B+\n"
     ]
    }
   ],
   "source": [
    "import csv\n",
    "\n",
    "class InvalidGradeException(Exception):\n",
    "    def __init__(self, message=\"Grade must be one of A+, A, A-, B, B+, O\"):\n",
    "        super().__init__(message)\n",
    "\n",
    "def collect_student_data():\n",
    "    students = [[\"Student\", \"Subject\", \"Grade\"]]\n",
    "    allowed_grades = {\"A+\", \"A\", \"A-\", \"B\", \"B+\", \"O\"}\n",
    "\n",
    "    n = int(input(\"How many students? \"))\n",
    "    for _ in range(n):\n",
    "        name = input(\"Name: \").strip()\n",
    "        subject = input(\"Subject: \").strip()\n",
    "        grade = input(\"Grade (A+, A, A-, B, B+, O): \").strip().upper()\n",
    "        if grade not in allowed_grades:\n",
    "            raise InvalidGradeException()\n",
    "        students.append([name, subject, grade])\n",
    "    return students\n",
    "\n",
    "def write_to_csv(filename, data):\n",
    "    with open(filename, 'w', newline='') as file:\n",
    "        writer = csv.writer(file)\n",
    "        writer.writerows(data)\n",
    "\n",
    "def read_from_csv(filename):\n",
    "    with open(filename, 'r') as file:\n",
    "        return list(csv.reader(file))\n",
    "\n",
    "try:\n",
    "    filename = \"students_grades.csv\"\n",
    "    data = collect_student_data()\n",
    "    write_to_csv(filename, data)\n",
    "    read_data = read_from_csv(filename)\n",
    "\n",
    "    for row in read_data:\n",
    "        print(\" | \".join(row))\n",
    "\n",
    "except InvalidGradeException as e:\n",
    "    print(f\"Error: {e}\")\n",
    "except ValueError:\n",
    "    print(\"Invalid input. Please enter numeric values where required.\")\n"
   ]
  },
  {
   "cell_type": "code",
   "execution_count": null,
   "id": "bcb258fc",
   "metadata": {},
   "outputs": [],
   "source": []
  }
 ],
 "metadata": {
  "kernelspec": {
   "display_name": "Python 3",
   "language": "python",
   "name": "python3"
  },
  "language_info": {
   "codemirror_mode": {
    "name": "ipython",
    "version": 3
   },
   "file_extension": ".py",
   "mimetype": "text/x-python",
   "name": "python",
   "nbconvert_exporter": "python",
   "pygments_lexer": "ipython3",
   "version": "3.13.5"
  }
 },
 "nbformat": 4,
 "nbformat_minor": 5
}
